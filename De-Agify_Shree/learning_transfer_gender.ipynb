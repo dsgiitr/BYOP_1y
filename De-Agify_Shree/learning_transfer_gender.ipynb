{
  "cells": [
    {
      "cell_type": "code",
      "execution_count": null,
      "id": "a73c3200-79a5-4094-9be4-8d93dfb055d1",
      "metadata": {
        "id": "a73c3200-79a5-4094-9be4-8d93dfb055d1"
      },
      "outputs": [],
      "source": [
        "import tensorflow as tf\n",
        "import numpy as np\n",
        "from matplotlib import pyplot as plt\n",
        "from tensorflow.keras.layers import Flatten, Dense, GaussianNoise, Dropout, RandomFlip, RandomRotation, RandomContrast\n",
        "from tensorflow.keras.optimizers import Adam\n",
        "from tensorflow.keras.applications import MobileNetV2\n",
        "from tensorflow.keras import Model, Sequential, Input\n",
        "from tensorflow.keras.models import load_model\n",
        "from tensorflow_addons.optimizers import MultiOptimizer\n",
        "\n",
        "import os\n",
        "import random\n",
        "from joblib import load, dump\n",
        "import gc\n",
        "import sys\n",
        "\n",
        "tf.keras.backend.set_floatx('float32')\n",
        "input_shape = (128, 128, 3)"
      ]
    },
    {
      "cell_type": "code",
      "execution_count": null,
      "id": "c12a563c-0d32-43f4-ae15-a87488b85e71",
      "metadata": {
        "colab": {
          "base_uri": "https://localhost:8080/"
        },
        "id": "c12a563c-0d32-43f4-ae15-a87488b85e71",
        "outputId": "2b02ed59-484d-4ccd-c0a5-efbcd6b020b5"
      },
      "outputs": [
        {
          "name": "stdout",
          "output_type": "stream",
          "text": [
            "Downloading data from https://storage.googleapis.com/tensorflow/keras-applications/mobilenet_v2/mobilenet_v2_weights_tf_dim_ordering_tf_kernels_1.0_128_no_top.h5\n",
            "9412608/9406464 [==============================] - 1s 0us/step\n",
            "9420800/9406464 [==============================] - 1s 0us/step\n"
          ]
        }
      ],
      "source": [
        "base_model = MobileNetV2(include_top=False, input_shape=input_shape)"
      ]
    },
    {
      "cell_type": "code",
      "execution_count": null,
      "id": "f410445f-4d09-4d21-9106-09d8f7f9a8b2",
      "metadata": {
        "colab": {
          "base_uri": "https://localhost:8080/"
        },
        "id": "f410445f-4d09-4d21-9106-09d8f7f9a8b2",
        "outputId": "98e43f68-75bb-4256-857f-c6457272b4ac"
      },
      "outputs": [
        {
          "name": "stdout",
          "output_type": "stream",
          "text": [
            "block_14_expand\n",
            "block_14_depthwise\n",
            "block_14_project\n",
            "block_15_expand\n",
            "block_15_depthwise\n",
            "block_15_project\n",
            "block_16_expand\n",
            "block_16_depthwise\n",
            "block_16_project\n",
            "Conv_1\n"
          ]
        }
      ],
      "source": [
        "train_layers = [\"Conv_1\", \"block_16_project\", \"block_16_depthwise\", \"block_16_expand\",\n",
        "                \"block_15_project\", \"block_15_depthwise\", \"block_15_expand\",\n",
        "                \"block_14_project\", \"block_14_depthwise\", \"block_14_expand\"\n",
        "                ]\n",
        "\n",
        "for layer in base_model.layers:\n",
        "    layer.trainable = layer.name in train_layers\n",
        "    if layer.name in train_layers:\n",
        "        print(layer.name)"
      ]
    },
    {
      "cell_type": "code",
      "execution_count": null,
      "id": "bc763ba3-4917-426d-8a8f-b6f3cc491f8e",
      "metadata": {
        "id": "bc763ba3-4917-426d-8a8f-b6f3cc491f8e"
      },
      "outputs": [],
      "source": [
        "def mat_shuffle(matrixs):\n",
        "    widths = np.cumsum([0]+[matrix.shape[1] for matrix in matrixs])\n",
        "    big = np.hstack(matrixs)\n",
        "    np.random.shuffle(big)\n",
        "    return [big[:,widths[i]:widths[i+1]].copy() for i in range(len(matrixs))]"
      ]
    },
    {
      "cell_type": "markdown",
      "id": "df11a2c8-d1a1-4497-bf46-ffe1568648f6",
      "metadata": {
        "id": "df11a2c8-d1a1-4497-bf46-ffe1568648f6"
      },
      "source": [
        "The labels of each face image is embedded in the file name, formated like [age]\\_[gender]\\_[race]\\_[date&time].jpg\n",
        "\n",
        "[age] is an integer from 0 to 116, indicating the age\n",
        "[gender] is either 0 (male) or 1 (female)\n",
        "[race] is an integer from 0 to 4, denoting White, Black, Asian, Indian, and Others (like Hispanic, Latino, Middle Eastern).\n",
        "[date&time] is in the format of yyyymmddHHMMSSFFF, showing the date and time an image was collected to UTKFace"
      ]
    },
    {
      "cell_type": "code",
      "execution_count": null,
      "id": "f7e29f6c-67c7-4645-948e-c0f61b0ce615",
      "metadata": {
        "id": "f7e29f6c-67c7-4645-948e-c0f61b0ce615"
      },
      "outputs": [],
      "source": [
        "input_x = Input(shape=input_shape)\n",
        "\n",
        "# augmentation layers\n",
        "x = RandomFlip(\"horizontal\")(input_x)\n",
        "x = GaussianNoise(0.03)(x)\n",
        "x = RandomRotation(0.3)(x)\n",
        "x = RandomContrast(0.3)(x)\n",
        "\n",
        "x = base_model(x)\n",
        "\n",
        "x = Flatten()(x)\n",
        "x = Dropout(0.2)(x)\n",
        "x = Dense(32, activation='relu')(x)\n",
        "x = Dropout(0.2)(x)\n",
        "output_layer = (Dense(1, activation='tanh')(x)+1)/2\n",
        "\n",
        "model = Model(input_x, output_layer)\n",
        "\n",
        "base_layers = [layer for layer in base_model.layers if layer.name in train_layers]\n",
        "added_layers = [model.layers[-1], model.layers[-3]]\n",
        "\n",
        "optimizer = MultiOptimizer([(Adam(1e-5), base_layers), (Adam(1e-3), added_layers)])\n",
        "\n",
        "model.compile(optimizer=optimizer, loss='binary_crossentropy', metrics=['accuracy'])"
      ]
    },
    {
      "cell_type": "code",
      "execution_count": null,
      "id": "8a829a6a-4ea5-4b4e-8cf0-925d54499c79",
      "metadata": {
        "colab": {
          "base_uri": "https://localhost:8080/"
        },
        "id": "8a829a6a-4ea5-4b4e-8cf0-925d54499c79",
        "outputId": "83eb24f6-2b75-4625-ed72-dc34645600de"
      },
      "outputs": [],
      "source": [
        "results = dict()\n",
        "c = 0\n",
        "while True:\n",
        "    for i in range(2):\n",
        "        images = tf.image.resize(load(f\"data/{i}_images.joblib\"), (128,128))\n",
        "        genders = load(f\"data/{i}_genders.joblib\")\n",
        "\n",
        "        results[f\"{c}_{i}\"] = model.fit(images, genders[:, None], epochs=128, batch_size=256,\n",
        "                              validation_split=0.2, use_multiprocessing=True, verbose=2)\n",
        "        \n",
        "        del images\n",
        "        gc.collect()\n",
        "        del genders\n",
        "        gc.collect()\n",
        " \n",
        "        \n",
        "        model.save(f'models/{c}_model_gender.h5')\n",
        "    c += 1"
      ]
    },
    {
      "cell_type": "code",
      "execution_count": null,
      "id": "6FOclTwrl0Hs",
      "metadata": {
        "id": "6FOclTwrl0Hs"
      },
      "outputs": [],
      "source": [
        "def predict(url):\n",
        "    image = tf.image.resize(tf.keras.utils.img_to_array(tf.keras.utils.load_img(url)), input_shape[:2])\n",
        "    image = (image.numpy().astype('float32')-127.5)/127.5\n",
        "    image = image[None, ...]\n",
        "    return float(model.predict(image)*15.54)+35.3"
      ]
    }
  ],
  "metadata": {
    "accelerator": "GPU",
    "colab": {
      "provenance": []
    },
    "gpuClass": "standard",
    "kernelspec": {
      "display_name": "Python 3 (ipykernel)",
      "language": "python",
      "name": "python3"
    },
    "language_info": {
      "codemirror_mode": {
        "name": "ipython",
        "version": 3
      },
      "file_extension": ".py",
      "mimetype": "text/x-python",
      "name": "python",
      "nbconvert_exporter": "python",
      "pygments_lexer": "ipython3",
      "version": "3.9.16"
    }
  },
  "nbformat": 4,
  "nbformat_minor": 5
}
