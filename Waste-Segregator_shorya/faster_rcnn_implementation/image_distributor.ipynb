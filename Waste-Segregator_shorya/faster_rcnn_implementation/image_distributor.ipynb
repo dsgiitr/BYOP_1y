{
 "cells": [
  {
   "cell_type": "code",
   "execution_count": 6,
   "id": "104c683d",
   "metadata": {},
   "outputs": [],
   "source": [
    "\"\"\"\n",
    "Program to divide images in train,validation and test directories respectively \n",
    "and also update filename in annotations accordingly.\n",
    "\"\"\"\n",
    "from PIL import Image\n",
    "import json"
   ]
  },
  {
   "cell_type": "code",
   "execution_count": 13,
   "id": "993269d4",
   "metadata": {
    "scrolled": true
   },
   "outputs": [
    {
     "data": {
      "text/plain": [
       "'\\nDue to the null values in the data, dumping the data in json creates errors,so i made it into a string and dumped it \\ninto the annotations file.I then used Word to replace all the single quotations marks with double quotation marks and \\nall None values to null.I also had to convert the file into utf-8 encoding whenever i load becuase word chnaged its encoding.\\n'"
      ]
     },
     "execution_count": 13,
     "metadata": {},
     "output_type": "execute_result"
    }
   ],
   "source": [
    "#getting the image data\n",
    "anns_file_path = 'resized_data/annotations.json'\n",
    "\n",
    "# Read annotations\n",
    "f=open(anns_file_path, 'r',encoding=\"utf8\")\n",
    "dataset = json.loads(f.read())\n",
    "f.close()\n",
    "    \n",
    "#getting the image data and converting the file_name path in annotations    \n",
    "imgs = dataset['images']\n",
    "images={}\n",
    "j=0\n",
    "for i in imgs:\n",
    "    images[i['id']]=i['file_name']\n",
    "    if i['file_name'][7]!='/':\n",
    "            r=int(i['file_name'][6:8])\n",
    "    if r<10 or r==12:\n",
    "        dataset['images'][j]['file_name']=str('train/'+str(i['id']))\n",
    "    if r==10 or r==11:\n",
    "        dataset['images'][j]['file_name']=str('validation/'+str(i['id']))\n",
    "    if r>12:\n",
    "        dataset['images'][j]['file_name']=str('test/'+str(i['id']))\n",
    "    j+=1\n",
    "\n",
    "#main loop\n",
    "for key,value in images.items():\n",
    "        url='resized_data/'+value\n",
    "        if value[7]!='/':\n",
    "            r=int(value[6:8])\n",
    "        im=Image.open(url)\n",
    "        if r<10 or r==12:\n",
    "            im.save('resized_data/train/'+str(key)+'.jpg')\n",
    "        if r==10 or r==11:\n",
    "            im.save('resized_data/validation/'+str(key)+'.jpg')\n",
    "        if r>12:\n",
    "            im.save('resized_data/test/'+str(key)+'.jpg')\n",
    "            \n",
    "\n",
    "\n",
    "with open(\"resized_data/annotations.json\", \"wt\") as jsonFile:\n",
    "    json.dump(str(dataset), jsonFile)\n",
    "    \n",
    "'''\n",
    "Due to the null values in the data, dumping the data in json creates errors,so i made it into a string and dumped it \n",
    "into the annotations file.I then used Word to replace all the single quotations marks with double quotation marks and \n",
    "all None values to null.I also had to convert the file into utf-8 encoding whenever i load becuase word chnaged its encoding.\n",
    "'''"
   ]
  },
  {
   "cell_type": "code",
   "execution_count": null,
   "id": "d5d8a78b",
   "metadata": {},
   "outputs": [],
   "source": []
  }
 ],
 "metadata": {
  "kernelspec": {
   "display_name": "Python 3 (ipykernel)",
   "language": "python",
   "name": "python3"
  },
  "language_info": {
   "codemirror_mode": {
    "name": "ipython",
    "version": 3
   },
   "file_extension": ".py",
   "mimetype": "text/x-python",
   "name": "python",
   "nbconvert_exporter": "python",
   "pygments_lexer": "ipython3",
   "version": "3.9.13"
  }
 },
 "nbformat": 4,
 "nbformat_minor": 5
}
